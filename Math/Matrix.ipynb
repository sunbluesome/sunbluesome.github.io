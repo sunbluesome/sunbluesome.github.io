{
 "cells": [
  {
   "cell_type": "markdown",
   "metadata": {},
   "source": [
    "<script type=\"text/x-mathjax-config\">\n",
    "MathJax.Hub.Config({\n",
    "  TeX: { equationNumbers: { autoNumber: \"AMS\" } }\n",
    "});\n",
    "</script>"
   ]
  },
  {
   "cell_type": "markdown",
   "metadata": {},
   "source": [
    "# 余因子行列を用いる方法\n",
    "余因子$\\Delta_{ij}$は対象の行列の$i$行目と$j$列目を除いた行列の行列式を$(−1)i+j$倍したもの。\n",
    "$$\n",
    "\\begin{align}\n",
    "A^{-1} = \\frac{\\tilde A}{\\det A}\n",
    "\\end{align}\n",
    "$$\n",
    "と表せる。"
   ]
  },
  {
   "cell_type": "markdown",
   "metadata": {},
   "source": [
    "# 行列式の余因子展開\n",
    "行列式は、任意の行または列で成分と余因子を用いて\n",
    "$$\n",
    "\\begin{align}\n",
    "\\det A = \\sum_{i} a_{ij} \\Delta_{ij} = \\sum_{j} a_{ij}\\Delta_{ij}\n",
    "\\end{align}\n",
    "$$\n",
    "のように展開できる。"
   ]
  },
  {
   "cell_type": "markdown",
   "metadata": {},
   "source": [
    "# 逆行列の求め方（余因子行列の添え字に注意）\n",
    "掃き出し法というのもあるが、一般化のために余因子を用いる方法をメモしておく。  \n",
    "　余因子を$i,j$成分とした余因子行列$\\tilde A$を用いて、行列Aの逆行列$A^{-1}$は以下のように計算できる。\n",
    "$$\n",
    "\\begin{align}\n",
    "\\left\\{\\begin{array}{l}\n",
    "A^{-1} &= \\frac{\\tilde A}{|A|} \\\\\n",
    "\\tilde A &= \\left|\\begin{array}{llll}\n",
    "    \\Delta_{11} & \\Delta_{12} & \\ldots & \\Delta_{1n} \\\\ \n",
    "    \\Delta_{21} & \\Delta_{22} & \\ldots & \\Delta_{2n} \\\\ \n",
    "    \\vdots & \\vdots & \\ddots & \\vdots \\\\ \n",
    "    \\Delta_{n1} & \\Delta_{n2} & \\ldots & \\Delta_{nn} \\\\ \n",
    "    \\end{array}\\right|\n",
    "\\end{array}\\right.\n",
    "\\end{align}\n",
    "$$"
   ]
  },
  {
   "cell_type": "markdown",
   "metadata": {},
   "source": [
    "# 行列式の微分（余因子行列の添え字に注意）\n",
    "行列式の余因子展開と、逆行列と行列式の関係より\n",
    "$$\n",
    "\\begin{align}\n",
    "\\frac{\\partial |A|}{\\partial a_{ij}} = \\Delta_{ji} = |A|b_{ji}\n",
    "\\end{align}\n",
    "$$\n",
    "が得られる。なお、行列Aの逆行列の成分を$b_{ij}$とした。これより、\n",
    "$$\n",
    "\\begin{align}\n",
    "\\frac{\\partial |A|}{\\partial x} &= \\frac{\\partial |A|}{\\partial a_{ij}} \\frac{\\partial a_{ij}}{\\partial x} = |A|b_{ji}\\frac{\\partial a_{ij}}{\\partial x} \\\\\n",
    "&= |A| \\mathrm{tr}\\left(A^{-1}\\frac{\\partial A}{\\partial x}\\right)\n",
    "\\end{align}\n",
    "$$\n",
    "\n",
    "## 行列式の対数の微分\n",
    "行列式の微分より、\n",
    "$$\n",
    "\\begin{align}\n",
    "\\frac{\\partial}{\\partial x} \\log |A| &= \\frac{1}{|A|} \\frac{\\partial |A|}{\\partial x} = \\mathrm{tr} \\left(A^{-1}\\frac{\\partial A}{\\partial x}\\right)\n",
    "\\end{align}\n",
    "$$"
   ]
  },
  {
   "cell_type": "markdown",
   "metadata": {},
   "source": [
    "# 逆行列の微分\n",
    "$$\n",
    "\\begin{align}\n",
    "AA^{-1} &= I \\\\\n",
    "\\end{align}\n",
    "$$\n",
    "これを両辺$x$で微分すると\n",
    "$$\n",
    "\\begin{align}\n",
    "\\frac{\\partial A^{-1}}{\\partial x} A + A^{-1} \\frac{\\partial A}{\\partial x} &= \\boldsymbol{0} \\\\\n",
    "\\frac{\\partial A^{-1}}{\\partial x} &= A^{-1} \\frac{\\partial A}{\\partial x} A^{-1} \\\\\n",
    "\\end{align}\n",
    "$$\n",
    "となる。"
   ]
  }
 ],
 "metadata": {
  "kernelspec": {
   "display_name": "",
   "name": ""
  },
  "language_info": {
   "name": ""
  }
 },
 "nbformat": 4,
 "nbformat_minor": 4
}
